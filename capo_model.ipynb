{
 "cells": [
  {
   "cell_type": "code",
   "execution_count": 60,
   "id": "9ccaa138",
   "metadata": {},
   "outputs": [],
   "source": [
    "import pandas as pd\n",
    "import numpy as np \n",
    "from sklearn.model_selection import train_test_split\n",
    "from sklearn.metrics import classification_report, accuracy_score, confusion_matrix\n",
    "from sklearn.feature_extraction.text import TfidfVectorizer\n",
    "from sklearn.svm import LinearSVC\n",
    "from sklearn.model_selection import cross_val_score"
   ]
  },
  {
   "cell_type": "markdown",
   "id": "16668c31",
   "metadata": {},
   "source": [
    "looked for top five words shared by Attempts to collect and Incorrect Info cols"
   ]
  },
  {
   "cell_type": "code",
   "execution_count": 61,
   "id": "8a2a751d",
   "metadata": {},
   "outputs": [],
   "source": [
    "complaints = pd.read_csv('complaints.csv')\n",
    "incorrect_info = pd.read_csv('IncorrectInfoWords.csv')\n",
    "attempts_collect = pd.read_csv('AttemptsToCollect.csv')"
   ]
  },
  {
   "cell_type": "code",
   "execution_count": 62,
   "id": "7d9b1aa6",
   "metadata": {},
   "outputs": [],
   "source": [
    "incorrect_attempts_merge = pd.concat([incorrect_info ,attempts_collect],axis=1)"
   ]
  },
  {
   "cell_type": "code",
   "execution_count": 63,
   "id": "2b5ced1f",
   "metadata": {},
   "outputs": [
    {
     "data": {
      "text/html": [
       "<div>\n",
       "<style scoped>\n",
       "    .dataframe tbody tr th:only-of-type {\n",
       "        vertical-align: middle;\n",
       "    }\n",
       "\n",
       "    .dataframe tbody tr th {\n",
       "        vertical-align: top;\n",
       "    }\n",
       "\n",
       "    .dataframe thead th {\n",
       "        text-align: right;\n",
       "    }\n",
       "</style>\n",
       "<table border=\"1\" class=\"dataframe\">\n",
       "  <thead>\n",
       "    <tr style=\"text-align: right;\">\n",
       "      <th></th>\n",
       "      <th>word</th>\n",
       "      <th>count</th>\n",
       "      <th>word</th>\n",
       "      <th>count</th>\n",
       "    </tr>\n",
       "  </thead>\n",
       "  <tbody>\n",
       "    <tr>\n",
       "      <th>0</th>\n",
       "      <td>credit</td>\n",
       "      <td>576152</td>\n",
       "      <td>credit</td>\n",
       "      <td>138483</td>\n",
       "    </tr>\n",
       "    <tr>\n",
       "      <th>1</th>\n",
       "      <td>account</td>\n",
       "      <td>348281</td>\n",
       "      <td>debt</td>\n",
       "      <td>128909</td>\n",
       "    </tr>\n",
       "    <tr>\n",
       "      <th>2</th>\n",
       "      <td>report</td>\n",
       "      <td>342119</td>\n",
       "      <td>account</td>\n",
       "      <td>105018</td>\n",
       "    </tr>\n",
       "    <tr>\n",
       "      <th>3</th>\n",
       "      <td>information</td>\n",
       "      <td>292415</td>\n",
       "      <td>information</td>\n",
       "      <td>69883</td>\n",
       "    </tr>\n",
       "    <tr>\n",
       "      <th>4</th>\n",
       "      <td>reporting</td>\n",
       "      <td>233173</td>\n",
       "      <td>report</td>\n",
       "      <td>65370</td>\n",
       "    </tr>\n",
       "    <tr>\n",
       "      <th>5</th>\n",
       "      <td>consumer</td>\n",
       "      <td>154393</td>\n",
       "      <td>collection</td>\n",
       "      <td>57077</td>\n",
       "    </tr>\n",
       "  </tbody>\n",
       "</table>\n",
       "</div>"
      ],
      "text/plain": [
       "          word   count         word   count\n",
       "0       credit  576152       credit  138483\n",
       "1      account  348281         debt  128909\n",
       "2       report  342119      account  105018\n",
       "3  information  292415  information   69883\n",
       "4    reporting  233173       report   65370\n",
       "5     consumer  154393   collection   57077"
      ]
     },
     "execution_count": 63,
     "metadata": {},
     "output_type": "execute_result"
    }
   ],
   "source": [
    "incorrect_attempts_merge.head(6)"
   ]
  },
  {
   "cell_type": "markdown",
   "id": "bb89d3ca",
   "metadata": {},
   "source": [
    "lowercased words, removed Xs, factorized cols, renamed Consumer col"
   ]
  },
  {
   "cell_type": "code",
   "execution_count": 64,
   "id": "744afdb6",
   "metadata": {},
   "outputs": [],
   "source": [
    "complaints['Consumer complaint narrative'] = complaints['Consumer complaint narrative'].str.lower()"
   ]
  },
  {
   "cell_type": "code",
   "execution_count": 65,
   "id": "4e3844d1",
   "metadata": {},
   "outputs": [],
   "source": [
    "complaints_no_x = complaints['Consumer complaint narrative']\n",
    "\n",
    "df_no_x = complaints_no_x.str.replace('xx', '').to_frame()"
   ]
  },
  {
   "cell_type": "code",
   "execution_count": 66,
   "id": "49d2e8fd",
   "metadata": {},
   "outputs": [],
   "source": [
    "df = pd.concat([df_no_x, complaints['Issue']], axis=1)"
   ]
  },
  {
   "cell_type": "code",
   "execution_count": 67,
   "id": "be720b3a",
   "metadata": {},
   "outputs": [],
   "source": [
    "df['issue_id'] = df['Issue'].factorize()[0]"
   ]
  },
  {
   "cell_type": "code",
   "execution_count": 68,
   "id": "56cf8e8f",
   "metadata": {},
   "outputs": [],
   "source": [
    "df = df.rename(columns = {'Consumer complaint narrative': 'Consumer_complaint_narrative'})"
   ]
  },
  {
   "cell_type": "markdown",
   "id": "0361b5c9",
   "metadata": {},
   "source": [
    "pulled out Attempts to collect and Incorrect Info cols, replaced top five words shared with empty str "
   ]
  },
  {
   "cell_type": "code",
   "execution_count": 69,
   "id": "131da2b1",
   "metadata": {},
   "outputs": [],
   "source": [
    "df_incor_att = df.loc[(df['Issue'] == 'Attempts to collect debt not owed') | (df['Issue'] == 'Incorrect information on your report')]"
   ]
  },
  {
   "cell_type": "code",
   "execution_count": 70,
   "id": "842bee14",
   "metadata": {},
   "outputs": [
    {
     "name": "stderr",
     "output_type": "stream",
     "text": [
      "C:\\Users\\tjsim\\AppData\\Local\\Temp\\ipykernel_17768\\3964784198.py:1: SettingWithCopyWarning: \n",
      "A value is trying to be set on a copy of a slice from a DataFrame.\n",
      "Try using .loc[row_indexer,col_indexer] = value instead\n",
      "\n",
      "See the caveats in the documentation: https://pandas.pydata.org/pandas-docs/stable/user_guide/indexing.html#returning-a-view-versus-a-copy\n",
      "  df_incor_att['Consumer_complaint_narrative'] = df_incor_att['Consumer_complaint_narrative'].str.replace(r'\\b(?:credit|account|report|reporting|information)\\b', '', regex=True)\n"
     ]
    }
   ],
   "source": [
    "df_incor_att['Consumer_complaint_narrative'] = df_incor_att['Consumer_complaint_narrative'].str.replace(r'\\b(?:credit|account|report|reporting|information)\\b', '', regex=True)"
   ]
  },
  {
   "cell_type": "markdown",
   "id": "c5b86721",
   "metadata": {},
   "source": [
    "ran linearSVC model with edited Attempts to Collect and Incorrect Info cols  "
   ]
  },
  {
   "cell_type": "code",
   "execution_count": 71,
   "id": "8ca2ef83",
   "metadata": {
    "scrolled": true
   },
   "outputs": [
    {
     "name": "stdout",
     "output_type": "stream",
     "text": [
      "                                      precision    recall  f1-score   support\n",
      "\n",
      "   Attempts to collect debt not owed       0.88      0.83      0.85     14622\n",
      "Incorrect information on your report       0.95      0.96      0.95     45872\n",
      "\n",
      "                            accuracy                           0.93     60494\n",
      "                           macro avg       0.91      0.90      0.90     60494\n",
      "                        weighted avg       0.93      0.93      0.93     60494\n",
      "\n"
     ]
    }
   ],
   "source": [
    "# only attempts and incorrect from Issue col \n",
    "\n",
    "X_train, X_test, y_train, y_test = train_test_split(df_incor_att['Consumer_complaint_narrative'], \n",
    "                                                    df_incor_att['Issue'], \n",
    "                                                    test_size=0.2, \n",
    "                                                    random_state=42) \n",
    "\n",
    "\n",
    "vectorizer = TfidfVectorizer(ngram_range=(1,3))\n",
    "\n",
    "\n",
    "X_train_vec = vectorizer.fit_transform(X_train)\n",
    "X_test_vec = vectorizer.transform(X_test)\n",
    "\n",
    "clf = LinearSVC()\n",
    "clf.fit(X_train_vec, y_train)\n",
    "\n",
    "y_pred = clf.predict(X_test_vec)\n",
    "print(classification_report(y_test, y_pred))"
   ]
  },
  {
   "cell_type": "markdown",
   "id": "9773b309",
   "metadata": {},
   "source": [
    "removed Attempts to Collect and Incorrect Info cols from original df, concated edited version of those same cols"
   ]
  },
  {
   "cell_type": "code",
   "execution_count": 72,
   "id": "377e25be",
   "metadata": {},
   "outputs": [],
   "source": [
    "df_no_incor_att = df.loc[(df['Issue'] != 'Attempts to collect debt not owed') & (df['Issue'] != 'Incorrect information on your report')]"
   ]
  },
  {
   "cell_type": "code",
   "execution_count": 73,
   "id": "b130f90e",
   "metadata": {},
   "outputs": [],
   "source": [
    "the_merge = pd.concat([df_no_incor_att, df_incor_att], ignore_index = True)"
   ]
  },
  {
   "cell_type": "markdown",
   "id": "31c33f56",
   "metadata": {},
   "source": [
    "second linearSVC model ran on full df with edited Attempts to Collect and Incorrect Info cols replacing original versions. "
   ]
  },
  {
   "cell_type": "code",
   "execution_count": 74,
   "id": "2bf3916b",
   "metadata": {},
   "outputs": [
    {
     "name": "stdout",
     "output_type": "stream",
     "text": [
      "                                      precision    recall  f1-score   support\n",
      "\n",
      "   Attempts to collect debt not owed       0.85      0.80      0.83     14609\n",
      "               Communication tactics       0.90      0.88      0.89      4279\n",
      "                       Fraud or scam       0.96      0.93      0.95      2527\n",
      "Incorrect information on your report       0.94      0.96      0.95     45837\n",
      "          Struggling to pay mortgage       0.95      0.96      0.95      3435\n",
      "\n",
      "                            accuracy                           0.92     70687\n",
      "                           macro avg       0.92      0.91      0.91     70687\n",
      "                        weighted avg       0.92      0.92      0.92     70687\n",
      "\n"
     ]
    }
   ],
   "source": [
    "# using the merge - edited attempts and incorrect classes from Issue col concated with original untouched df\n",
    "\n",
    "X_train, X_test, y_train, y_test = train_test_split(the_merge['Consumer_complaint_narrative'], \n",
    "                                                    the_merge['Issue'], \n",
    "                                                    test_size=0.2, \n",
    "                                                    random_state=42) \n",
    "\n",
    "\n",
    "vectorizer = TfidfVectorizer(ngram_range=(1,3))\n",
    "\n",
    "\n",
    "X_train_vec = vectorizer.fit_transform(X_train)\n",
    "X_test_vec = vectorizer.transform(X_test)\n",
    "\n",
    "clf = LinearSVC()\n",
    "clf.fit(X_train_vec, y_train)\n",
    "\n",
    "y_pred = clf.predict(X_test_vec)\n",
    "print(classification_report(y_test, y_pred))"
   ]
  },
  {
   "cell_type": "markdown",
   "id": "d76c3251",
   "metadata": {},
   "source": [
    "original linearSVC model ran on untouched df"
   ]
  },
  {
   "cell_type": "code",
   "execution_count": 75,
   "id": "e2936dae",
   "metadata": {},
   "outputs": [
    {
     "name": "stdout",
     "output_type": "stream",
     "text": [
      "                                      precision    recall  f1-score   support\n",
      "\n",
      "   Attempts to collect debt not owed       0.78      0.71      0.74     14477\n",
      "               Communication tactics       0.84      0.76      0.80      4160\n",
      "                       Fraud or scam       0.92      0.89      0.91      2391\n",
      "Incorrect information on your report       0.91      0.95      0.93     46122\n",
      "          Struggling to pay mortgage       0.93      0.93      0.93      3537\n",
      "\n",
      "                            accuracy                           0.89     70687\n",
      "                           macro avg       0.88      0.85      0.86     70687\n",
      "                        weighted avg       0.88      0.89      0.88     70687\n",
      "\n"
     ]
    }
   ],
   "source": [
    "# OG model\n",
    "\n",
    "X_train, X_test, y_train, y_test = train_test_split(df['Consumer_complaint_narrative'], \n",
    "                                                    df['Issue'], \n",
    "                                                    test_size=0.2, \n",
    "                                                    random_state=42) \n",
    "vectorizer = TfidfVectorizer()\n",
    "\n",
    "X_train_vec = vectorizer.fit_transform(X_train)\n",
    "X_test_vec = vectorizer.transform(X_test)\n",
    "\n",
    "clf = LinearSVC()\n",
    "clf.fit(X_train_vec, y_train)\n",
    "\n",
    "y_pred = clf.predict(X_test_vec)\n",
    "print(classification_report(y_test, y_pred))"
   ]
  },
  {
   "cell_type": "code",
   "execution_count": null,
   "id": "35c45512",
   "metadata": {},
   "outputs": [],
   "source": []
  }
 ],
 "metadata": {
  "kernelspec": {
   "display_name": "Python 3 (ipykernel)",
   "language": "python",
   "name": "python3"
  },
  "language_info": {
   "codemirror_mode": {
    "name": "ipython",
    "version": 3
   },
   "file_extension": ".py",
   "mimetype": "text/x-python",
   "name": "python",
   "nbconvert_exporter": "python",
   "pygments_lexer": "ipython3",
   "version": "3.9.12"
  }
 },
 "nbformat": 4,
 "nbformat_minor": 5
}
