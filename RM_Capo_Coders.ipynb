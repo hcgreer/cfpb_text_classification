{
 "cells": [
  {
   "cell_type": "code",
   "execution_count": 1,
   "id": "fe65c25c",
   "metadata": {},
   "outputs": [],
   "source": [
    "import pandas as pd\n",
    "import re\n",
    "from sklearn.feature_extraction.text import CountVectorizer\n",
    "from sklearn.linear_model import LogisticRegression\n",
    "from sklearn.model_selection import train_test_split\n",
    "from sklearn.metrics import classification_report"
   ]
  },
  {
   "cell_type": "code",
   "execution_count": 2,
   "id": "095f2fff",
   "metadata": {},
   "outputs": [
    {
     "data": {
      "text/html": [
       "<div>\n",
       "<style scoped>\n",
       "    .dataframe tbody tr th:only-of-type {\n",
       "        vertical-align: middle;\n",
       "    }\n",
       "\n",
       "    .dataframe tbody tr th {\n",
       "        vertical-align: top;\n",
       "    }\n",
       "\n",
       "    .dataframe thead th {\n",
       "        text-align: right;\n",
       "    }\n",
       "</style>\n",
       "<table border=\"1\" class=\"dataframe\">\n",
       "  <thead>\n",
       "    <tr style=\"text-align: right;\">\n",
       "      <th></th>\n",
       "      <th>Consumer complaint narrative</th>\n",
       "      <th>Issue</th>\n",
       "    </tr>\n",
       "  </thead>\n",
       "  <tbody>\n",
       "    <tr>\n",
       "      <th>0</th>\n",
       "      <td>My name is XXXX XXXX this complaint is not mad...</td>\n",
       "      <td>Incorrect information on your report</td>\n",
       "    </tr>\n",
       "    <tr>\n",
       "      <th>1</th>\n",
       "      <td>I searched on XXXX for XXXXXXXX XXXX  and was ...</td>\n",
       "      <td>Fraud or scam</td>\n",
       "    </tr>\n",
       "    <tr>\n",
       "      <th>2</th>\n",
       "      <td>I have a particular account that is stating th...</td>\n",
       "      <td>Incorrect information on your report</td>\n",
       "    </tr>\n",
       "    <tr>\n",
       "      <th>3</th>\n",
       "      <td>I have not supplied proof under the doctrine o...</td>\n",
       "      <td>Attempts to collect debt not owed</td>\n",
       "    </tr>\n",
       "    <tr>\n",
       "      <th>4</th>\n",
       "      <td>Hello i'm writing regarding account on my cred...</td>\n",
       "      <td>Incorrect information on your report</td>\n",
       "    </tr>\n",
       "    <tr>\n",
       "      <th>...</th>\n",
       "      <td>...</td>\n",
       "      <td>...</td>\n",
       "    </tr>\n",
       "    <tr>\n",
       "      <th>353427</th>\n",
       "      <td>Collections account I have no knowledge of</td>\n",
       "      <td>Attempts to collect debt not owed</td>\n",
       "    </tr>\n",
       "    <tr>\n",
       "      <th>353428</th>\n",
       "      <td>Dear CFPB Team, The reason for my complaint is...</td>\n",
       "      <td>Attempts to collect debt not owed</td>\n",
       "    </tr>\n",
       "    <tr>\n",
       "      <th>353429</th>\n",
       "      <td>FRCA violations : Failing to Follow Debt Dispu...</td>\n",
       "      <td>Attempts to collect debt not owed</td>\n",
       "    </tr>\n",
       "    <tr>\n",
       "      <th>353430</th>\n",
       "      <td>My Father, a XXXX XXXX  acquired an HECM rever...</td>\n",
       "      <td>Struggling to pay mortgage</td>\n",
       "    </tr>\n",
       "    <tr>\n",
       "      <th>353431</th>\n",
       "      <td>I have tried to contact cash app about a fraud...</td>\n",
       "      <td>Fraud or scam</td>\n",
       "    </tr>\n",
       "  </tbody>\n",
       "</table>\n",
       "<p>353432 rows × 2 columns</p>\n",
       "</div>"
      ],
      "text/plain": [
       "                             Consumer complaint narrative  \\\n",
       "0       My name is XXXX XXXX this complaint is not mad...   \n",
       "1       I searched on XXXX for XXXXXXXX XXXX  and was ...   \n",
       "2       I have a particular account that is stating th...   \n",
       "3       I have not supplied proof under the doctrine o...   \n",
       "4       Hello i'm writing regarding account on my cred...   \n",
       "...                                                   ...   \n",
       "353427         Collections account I have no knowledge of   \n",
       "353428  Dear CFPB Team, The reason for my complaint is...   \n",
       "353429  FRCA violations : Failing to Follow Debt Dispu...   \n",
       "353430  My Father, a XXXX XXXX  acquired an HECM rever...   \n",
       "353431  I have tried to contact cash app about a fraud...   \n",
       "\n",
       "                                       Issue  \n",
       "0       Incorrect information on your report  \n",
       "1                              Fraud or scam  \n",
       "2       Incorrect information on your report  \n",
       "3          Attempts to collect debt not owed  \n",
       "4       Incorrect information on your report  \n",
       "...                                      ...  \n",
       "353427     Attempts to collect debt not owed  \n",
       "353428     Attempts to collect debt not owed  \n",
       "353429     Attempts to collect debt not owed  \n",
       "353430            Struggling to pay mortgage  \n",
       "353431                         Fraud or scam  \n",
       "\n",
       "[353432 rows x 2 columns]"
      ]
     },
     "execution_count": 2,
     "metadata": {},
     "output_type": "execute_result"
    }
   ],
   "source": [
    "complaints = pd.read_csv('complaints.csv')\n",
    "complaints"
   ]
  },
  {
   "cell_type": "code",
   "execution_count": 4,
   "id": "a075f47c",
   "metadata": {},
   "outputs": [
    {
     "data": {
      "text/plain": [
       "Incorrect information on your report    229305\n",
       "Attempts to collect debt not owed        73163\n",
       "Communication tactics                    21243\n",
       "Struggling to pay mortgage               17374\n",
       "Fraud or scam                            12347\n",
       "Name: Issue, dtype: int64"
      ]
     },
     "execution_count": 4,
     "metadata": {},
     "output_type": "execute_result"
    }
   ],
   "source": [
    "complaints['Issue'].value_counts()"
   ]
  },
  {
   "cell_type": "code",
   "execution_count": 10,
   "id": "3c35d845",
   "metadata": {},
   "outputs": [],
   "source": [
    "complaints_no_x=complaints"
   ]
  },
  {
   "cell_type": "code",
   "execution_count": 11,
   "id": "18a382d7",
   "metadata": {
    "scrolled": true
   },
   "outputs": [
    {
     "data": {
      "text/html": [
       "<div>\n",
       "<style scoped>\n",
       "    .dataframe tbody tr th:only-of-type {\n",
       "        vertical-align: middle;\n",
       "    }\n",
       "\n",
       "    .dataframe tbody tr th {\n",
       "        vertical-align: top;\n",
       "    }\n",
       "\n",
       "    .dataframe thead th {\n",
       "        text-align: right;\n",
       "    }\n",
       "</style>\n",
       "<table border=\"1\" class=\"dataframe\">\n",
       "  <thead>\n",
       "    <tr style=\"text-align: right;\">\n",
       "      <th></th>\n",
       "      <th>Consumer complaint narrative</th>\n",
       "      <th>Issue</th>\n",
       "    </tr>\n",
       "  </thead>\n",
       "  <tbody>\n",
       "    <tr>\n",
       "      <th>0</th>\n",
       "      <td>My name is   this complaint is not made in err...</td>\n",
       "      <td>Incorrect information on your report</td>\n",
       "    </tr>\n",
       "    <tr>\n",
       "      <th>1</th>\n",
       "      <td>I searched on  for    and was pointed to a web...</td>\n",
       "      <td>Fraud or scam</td>\n",
       "    </tr>\n",
       "    <tr>\n",
       "      <th>2</th>\n",
       "      <td>I have a particular account that is stating th...</td>\n",
       "      <td>Incorrect information on your report</td>\n",
       "    </tr>\n",
       "    <tr>\n",
       "      <th>3</th>\n",
       "      <td>I have not supplied proof under the doctrine o...</td>\n",
       "      <td>Attempts to collect debt not owed</td>\n",
       "    </tr>\n",
       "    <tr>\n",
       "      <th>4</th>\n",
       "      <td>Hello i'm writing regarding account on my cred...</td>\n",
       "      <td>Incorrect information on your report</td>\n",
       "    </tr>\n",
       "    <tr>\n",
       "      <th>...</th>\n",
       "      <td>...</td>\n",
       "      <td>...</td>\n",
       "    </tr>\n",
       "    <tr>\n",
       "      <th>353427</th>\n",
       "      <td>Collections account I have no knowledge of</td>\n",
       "      <td>Attempts to collect debt not owed</td>\n",
       "    </tr>\n",
       "    <tr>\n",
       "      <th>353428</th>\n",
       "      <td>Dear CFPB Team, The reason for my complaint is...</td>\n",
       "      <td>Attempts to collect debt not owed</td>\n",
       "    </tr>\n",
       "    <tr>\n",
       "      <th>353429</th>\n",
       "      <td>FRCA violations : Failing to Follow Debt Dispu...</td>\n",
       "      <td>Attempts to collect debt not owed</td>\n",
       "    </tr>\n",
       "    <tr>\n",
       "      <th>353430</th>\n",
       "      <td>My Father, a    acquired an HECM reverse mortg...</td>\n",
       "      <td>Struggling to pay mortgage</td>\n",
       "    </tr>\n",
       "    <tr>\n",
       "      <th>353431</th>\n",
       "      <td>I have tried to contact cash app about a fraud...</td>\n",
       "      <td>Fraud or scam</td>\n",
       "    </tr>\n",
       "  </tbody>\n",
       "</table>\n",
       "<p>353432 rows × 2 columns</p>\n",
       "</div>"
      ],
      "text/plain": [
       "                             Consumer complaint narrative  \\\n",
       "0       My name is   this complaint is not made in err...   \n",
       "1       I searched on  for    and was pointed to a web...   \n",
       "2       I have a particular account that is stating th...   \n",
       "3       I have not supplied proof under the doctrine o...   \n",
       "4       Hello i'm writing regarding account on my cred...   \n",
       "...                                                   ...   \n",
       "353427         Collections account I have no knowledge of   \n",
       "353428  Dear CFPB Team, The reason for my complaint is...   \n",
       "353429  FRCA violations : Failing to Follow Debt Dispu...   \n",
       "353430  My Father, a    acquired an HECM reverse mortg...   \n",
       "353431  I have tried to contact cash app about a fraud...   \n",
       "\n",
       "                                       Issue  \n",
       "0       Incorrect information on your report  \n",
       "1                              Fraud or scam  \n",
       "2       Incorrect information on your report  \n",
       "3          Attempts to collect debt not owed  \n",
       "4       Incorrect information on your report  \n",
       "...                                      ...  \n",
       "353427     Attempts to collect debt not owed  \n",
       "353428     Attempts to collect debt not owed  \n",
       "353429     Attempts to collect debt not owed  \n",
       "353430            Struggling to pay mortgage  \n",
       "353431                         Fraud or scam  \n",
       "\n",
       "[353432 rows x 2 columns]"
      ]
     },
     "execution_count": 11,
     "metadata": {},
     "output_type": "execute_result"
    }
   ],
   "source": [
    "complaints_no_x['Consumer complaint narrative'] = complaints_no_x['Consumer complaint narrative'].apply(lambda x: re.sub(r'XX', '', x))\n",
    "complaints_no_x"
   ]
  },
  {
   "cell_type": "code",
   "execution_count": 13,
   "id": "2d3b1921",
   "metadata": {},
   "outputs": [],
   "source": [
    "complaints_no_x['Consumer complaint narrative'] = complaints_no_x['Consumer complaint narrative'].apply(lambda x: re.sub(r'//', '', x))"
   ]
  },
  {
   "cell_type": "code",
   "execution_count": 14,
   "id": "708c7f3a",
   "metadata": {
    "scrolled": true
   },
   "outputs": [
    {
     "data": {
      "text/plain": [
       "\"I searched on  for    and was pointed to a website I legitimately believed was . The website was  whereas the authentic website is  I proceeded to buy a gun from the fraudulent website and sent my money via  as the spam seller requested, this was a total of {$450.00} on . I received an email stating the transaction was approved and on  I attempted to reach back out to the company in an attempt to give them the contact info of my chosen  dealer, the emails started to bounce back ( there are also photos of this ). This was when I realized that this website was a faked, copycat website. I attempted to report it to my bank immediately when I realized a company I was dealing with was committing fraud and pretending to be a firearms dealer that has been in business for over 80 years and is a very well-known company all over the world. As my bank, I expected them to help protect me. I was told to wait until the money posted and then got a letter stating that because I initiated the transaction, they weren't refunding me my money. I reported the transaction immediately, expecting my bank to help me and they did nothing. This bank did not protect my money and could care less even after proving all the reports I filed about the fraudulent claim. It's sad that after almost a decade of business with me and my family, I don't seem to matter. I did report the fraud activity to the Federal Trade Commission, the Georgia State Commissioner, and the    \\n\\nAfter reporting it to the  Truist said they would look into it and I received a letter stating they couldn't get the money back so I wouldn't be getting it back either. Seriously? The company literally stole my money, how is that even an attempt at a resolution? \\n\\nAll of the information provided can be proven with screenshots and images. I also have the name of the original Truist rep we spoke to and the complaint number.\""
      ]
     },
     "execution_count": 14,
     "metadata": {},
     "output_type": "execute_result"
    }
   ],
   "source": [
    "complaints_no_x['Consumer complaint narrative'][1]"
   ]
  },
  {
   "cell_type": "code",
   "execution_count": 15,
   "id": "6985e044",
   "metadata": {},
   "outputs": [
    {
     "name": "stdout",
     "output_type": "stream",
     "text": [
      "                                      precision    recall  f1-score   support\n",
      "\n",
      "   Attempts to collect debt not owed       0.77      0.64      0.70     14477\n",
      "               Communication tactics       0.84      0.75      0.79      4160\n",
      "                       Fraud or scam       0.93      0.84      0.89      2391\n",
      "Incorrect information on your report       0.89      0.95      0.92     46122\n",
      "          Struggling to pay mortgage       0.94      0.88      0.91      3537\n",
      "\n",
      "                            accuracy                           0.87     70687\n",
      "                           macro avg       0.87      0.81      0.84     70687\n",
      "                        weighted avg       0.87      0.87      0.87     70687\n",
      "\n"
     ]
    }
   ],
   "source": [
    "X_train, X_test, y_train, y_test = train_test_split(complaints_no_x['Consumer complaint narrative'], \n",
    "                                                    complaints_no_x['Issue'], \n",
    "                                                    test_size=0.2, \n",
    "                                                    random_state=42) \n",
    "vectorizer = CountVectorizer()\n",
    "X_train_vec = vectorizer.fit_transform(X_train)\n",
    "X_test_vec = vectorizer.transform(X_test)\n",
    "\n",
    "clf = LogisticRegression()\n",
    "clf.fit(X_train_vec, y_train)\n",
    "\n",
    "y_pred = clf.predict(X_test_vec)\n",
    "classification_report(y_test, y_pred)"
   ]
  },
  {
   "cell_type": "code",
   "execution_count": null,
   "id": "238580e7",
   "metadata": {},
   "outputs": [
    {
     "name": "stderr",
     "output_type": "stream",
     "text": [
      "/opt/anaconda3/lib/python3.9/site-packages/scipy/sparse/_index.py:146: SparseEfficiencyWarning: Changing the sparsity structure of a csr_matrix is expensive. lil_matrix is more efficient.\n",
      "  self._set_arrayXarray(i, j, x)\n"
     ]
    }
   ],
   "source": [
    "import umap\n",
    "\n",
    "vectorizer = CountVectorizer()\n",
    "X_train_vec = vectorizer.fit_transform(X_train)\n",
    "X_test_vec = vectorizer.transform(X_test)\n",
    "\n",
    "umap_model = umap.UMAP()\n",
    "X_train_umap = umap_model.fit_transform(X_train_vec)\n",
    "X_test_umap = umap_model.transform(X_test_vec)\n",
    "\n",
    "clf = LogisticRegression()\n",
    "clf.fit(X_train_umap, y_train)\n",
    "\n",
    "y_pred = clf.predict(X_test_umap)\n",
    "classification_report(y_test, y_pred)"
   ]
  },
  {
   "cell_type": "code",
   "execution_count": null,
   "id": "eec5e74b",
   "metadata": {},
   "outputs": [],
   "source": [
    "import hdbscan\n",
    "\n",
    "vectorizer = CountVectorizer()\n",
    "X_train_vec = vectorizer.fit_transform(X_train)\n",
    "X_test_vec = vectorizer.transform(X_test)\n",
    "\n",
    "hdbscan_model = hdbscan.HDBSCAN()\n",
    "hdbscan_model.fit(X_train_vec)\n",
    "X_train_hdbscan = hdbscan_model.labels_\n",
    "X_test_hdbscan = hdbscan_model.predict(X_test_vec)\n",
    "\n",
    "for cluster_label in set(X_train_hdbscan):\n",
    "    X_train_cluster = X_train_vec[X_train_hdbscan == cluster_label]\n",
    "    y_train_cluster = y_train[X_train_hdbscan == cluster_label]\n",
    "    X_test_cluster = X_test_vec[X_test_hdbscan == cluster_label]\n",
    "    y_test_cluster = y_test[X_test_hdbscan == cluster_label]\n",
    "    \n",
    "    clf = LogisticRegression()\n",
    "    clf.fit(X_train_cluster, y_train_cluster)\n",
    "    \n",
    "    y_pred = clf.predict(X_test_cluster)\n",
    "    print(f\"Classification report for cluster {cluster_label}\")\n",
    "    print(classification_report(y_test_cluster, y_pred))"
   ]
  },
  {
   "cell_type": "code",
   "execution_count": null,
   "id": "2732fbe6",
   "metadata": {},
   "outputs": [],
   "source": [
    "from bertopic import BERTopic\n",
    "\n",
    "model = BERTopic(# fill in with number of topics)\n",
    "complaints['topic'] = model.fit_transform(complaints['Consumer complaint narrative'])\n",
    "topic_labels = {0: 'Incorrect information on your report', \n",
    "                1: 'Attempts to collect debt not owed', \n",
    "                2: 'Communication tactics', \n",
    "                3: 'Struggling to pay mortgage', \n",
    "                4: 'Fraud or scam'}\n",
    "\n",
    "complaints['predicted_issue'] = complaints['topic'].apply(lambda x: topic_labels[x])\n",
    "complaints"
   ]
  },
  {
   "cell_type": "code",
   "execution_count": null,
   "id": "6e8958ed",
   "metadata": {},
   "outputs": [],
   "source": [
    "# Rohit's stopword filter\n",
    "# nltk.download('stopwords')\n",
    "stopwords = nltk.corpus.stopwords.words('english')\n",
    "stopwords.extend(['xa', 'nbsp'] + list(string.ascii_lowercase))\n",
    "\n",
    "def text_preprocessing(text):\n",
    "    text = BeautifulSoup(text, 'lxml').get_text(separator=' ', strip=True)\n",
    "    text = re.findall(r'[a-z]+', text.lower())\n",
    "    text = [word for word in text if word not in stopwords]\n",
    "    return ' '.join(text)"
   ]
  }
 ],
 "metadata": {
  "kernelspec": {
   "display_name": "Python 3 (ipykernel)",
   "language": "python",
   "name": "python3"
  },
  "language_info": {
   "codemirror_mode": {
    "name": "ipython",
    "version": 3
   },
   "file_extension": ".py",
   "mimetype": "text/x-python",
   "name": "python",
   "nbconvert_exporter": "python",
   "pygments_lexer": "ipython3",
   "version": "3.9.12"
  }
 },
 "nbformat": 4,
 "nbformat_minor": 5
}
