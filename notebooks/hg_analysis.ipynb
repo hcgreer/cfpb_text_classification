{
 "cells": [
  {
   "cell_type": "code",
   "execution_count": 3,
   "id": "296af473",
   "metadata": {},
   "outputs": [],
   "source": [
    "import pandas as pd\n",
    "from sklearn.model_selection import train_test_split\n",
    "from sklearn.metrics import accuracy_score, confusion_matrix\n",
    "import re\n",
    "import numpy as np\n",
    "import matplotlib.pyplot as plt\n",
    "from sklearn.feature_extraction.text import CountVectorizer, TfidfVectorizer\n",
    "import seaborn as sns\n",
    "from sklearn.linear_model import LogisticRegression\n",
    "from sklearn.metrics.pairwise import cosine_similarity\n",
    "from nltk.corpus import stopwords\n",
    "from collections import Counter\n",
    "from scipy import sparse\n",
    "from scipy.sparse.linalg import svds\n",
    "import gensim\n",
    "from imblearn.over_sampling import RandomOverSampler"
   ]
  },
  {
   "cell_type": "code",
   "execution_count": 4,
   "id": "399c9cef",
   "metadata": {},
   "outputs": [],
   "source": [
    "complaints = pd.read_csv('../data/complaints.csv')"
   ]
  },
  {
   "cell_type": "code",
   "execution_count": 5,
   "id": "71385e20",
   "metadata": {},
   "outputs": [],
   "source": [
    "# Replacing the X's with an empty space.\n",
    "for i in range(0, len(complaints)):\n",
    "    complaints.loc[i, 'Consumer complaint narrative'] = (\n",
    "        re.sub('X{2,}', '', complaints.loc[i, 'Consumer complaint narrative'])\n",
    "    )"
   ]
  },
  {
   "cell_type": "code",
   "execution_count": 4,
   "id": "5ba5266b",
   "metadata": {},
   "outputs": [],
   "source": [
    "# Creating the Train/Test spilt stratifying by Issue.\n",
    "X = complaints[['Consumer complaint narrative']]\n",
    "y = complaints['Issue']\n",
    "\n",
    "xTrain, xTest, yTrain, yTest = train_test_split(X, y, random_state = 777, stratify = y)"
   ]
  },
  {
   "attachments": {},
   "cell_type": "markdown",
   "id": "24546ac4",
   "metadata": {},
   "source": [
    "**Looking at a Count Vectorizer**"
   ]
  },
  {
   "cell_type": "code",
   "execution_count": 5,
   "id": "b3087655",
   "metadata": {},
   "outputs": [],
   "source": [
    "# Fitting the count vectorizer to training data then transforming both the training and test data.\n",
    "vect = CountVectorizer()\n",
    "\n",
    "XTrainVec = vect.fit_transform(xTrain['Consumer complaint narrative'])\n",
    "XTestVec = vect.transform(xTest['Consumer complaint narrative'])"
   ]
  },
  {
   "cell_type": "code",
   "execution_count": 6,
   "id": "3257187e",
   "metadata": {},
   "outputs": [
    {
     "name": "stderr",
     "output_type": "stream",
     "text": [
      "c:\\Users\\hcgre\\anaconda3\\lib\\site-packages\\sklearn\\linear_model\\_logistic.py:458: ConvergenceWarning: lbfgs failed to converge (status=1):\n",
      "STOP: TOTAL NO. of ITERATIONS REACHED LIMIT.\n",
      "\n",
      "Increase the number of iterations (max_iter) or scale the data as shown in:\n",
      "    https://scikit-learn.org/stable/modules/preprocessing.html\n",
      "Please also refer to the documentation for alternative solver options:\n",
      "    https://scikit-learn.org/stable/modules/linear_model.html#logistic-regression\n",
      "  n_iter_i = _check_optimize_result(\n"
     ]
    },
    {
     "name": "stdout",
     "output_type": "stream",
     "text": [
      "Accuracy Score:  0.8713868580094615\n",
      "Confusion Matrix:  [[12223   788   118  5071    91]\n",
      " [  933  3987    24   336    31]\n",
      " [  158    29  2630   251    19]\n",
      " [ 2683   105   102 54258   178]\n",
      " [   92    54    22   279  3896]]\n"
     ]
    }
   ],
   "source": [
    "# Checking the results of a logistic regression model.\n",
    "logreg = LogisticRegression(max_iter = 1000).fit(XTrainVec, yTrain)\n",
    "\n",
    "yPred = logreg.predict(XTestVec)\n",
    "\n",
    "print('Accuracy Score: ', accuracy_score(yTest, yPred))\n",
    "\n",
    "print('Confusion Matrix: ', confusion_matrix(yTest, yPred))"
   ]
  },
  {
   "attachments": {},
   "cell_type": "markdown",
   "id": "88379d94",
   "metadata": {},
   "source": [
    "**Looking into dealing with class imbalance**"
   ]
  },
  {
   "cell_type": "code",
   "execution_count": 7,
   "id": "8f802028",
   "metadata": {},
   "outputs": [],
   "source": [
    "oversample = RandomOverSampler()\n",
    "\n",
    "xTrainOver, yTrainOver = oversample.fit_resample(\n",
    "    xTrain, \n",
    "    yTrain\n",
    ")"
   ]
  },
  {
   "attachments": {},
   "cell_type": "markdown",
   "id": "22804aa2",
   "metadata": {},
   "source": [
    "**Count Vectorizer into a Logistic Regression**"
   ]
  },
  {
   "cell_type": "code",
   "execution_count": 8,
   "id": "3e870a36",
   "metadata": {},
   "outputs": [],
   "source": [
    "# Fitting the count vectorizer to training data then transforming both the training and test data.\n",
    "vect = CountVectorizer()\n",
    "\n",
    "XTrainVec = vect.fit_transform(xTrainOver['Consumer complaint narrative'])\n",
    "XTestVec = vect.transform(xTest['Consumer complaint narrative'])"
   ]
  },
  {
   "cell_type": "code",
   "execution_count": 9,
   "id": "95139144",
   "metadata": {},
   "outputs": [
    {
     "name": "stderr",
     "output_type": "stream",
     "text": [
      "c:\\Users\\hcgre\\anaconda3\\lib\\site-packages\\sklearn\\linear_model\\_logistic.py:458: ConvergenceWarning: lbfgs failed to converge (status=1):\n",
      "STOP: TOTAL NO. of ITERATIONS REACHED LIMIT.\n",
      "\n",
      "Increase the number of iterations (max_iter) or scale the data as shown in:\n",
      "    https://scikit-learn.org/stable/modules/preprocessing.html\n",
      "Please also refer to the documentation for alternative solver options:\n",
      "    https://scikit-learn.org/stable/modules/linear_model.html#logistic-regression\n",
      "  n_iter_i = _check_optimize_result(\n"
     ]
    },
    {
     "name": "stdout",
     "output_type": "stream",
     "text": [
      "Accuracy Score:  0.8465107856673986\n",
      "Confusion Matrix:  [[13979  1390   234  2561   127]\n",
      " [  780  4317    46   120    48]\n",
      " [  166    47  2710   126    38]\n",
      " [ 6081   571   461 49829   384]\n",
      " [   99    72    35   176  3961]]\n"
     ]
    }
   ],
   "source": [
    "# Checking the results of a logistic regression model.\n",
    "logreg = LogisticRegression(max_iter = 1000).fit(XTrainVec, yTrainOver)\n",
    "\n",
    "yPred = logreg.predict(XTestVec)\n",
    "\n",
    "print('Accuracy Score: ', accuracy_score(yTest, yPred))\n",
    "\n",
    "print('Confusion Matrix: ', confusion_matrix(yTest, yPred))"
   ]
  },
  {
   "attachments": {},
   "cell_type": "markdown",
   "id": "4aee65f2",
   "metadata": {},
   "source": [
    "**Linear SVC**"
   ]
  },
  {
   "cell_type": "code",
   "execution_count": 16,
   "id": "29b6d20b",
   "metadata": {},
   "outputs": [],
   "source": [
    "from sklearn.svm import LinearSVC"
   ]
  },
  {
   "cell_type": "code",
   "execution_count": 12,
   "id": "388a7abd",
   "metadata": {},
   "outputs": [
    {
     "name": "stderr",
     "output_type": "stream",
     "text": [
      "c:\\Users\\hcgre\\anaconda3\\lib\\site-packages\\sklearn\\svm\\_base.py:1244: ConvergenceWarning: Liblinear failed to converge, increase the number of iterations.\n",
      "  warnings.warn(\n"
     ]
    },
    {
     "name": "stdout",
     "output_type": "stream",
     "text": [
      "Accuracy Score:  0.8463410217524163\n",
      "Confusion Matrix:  [[13762  1359   230  2803   137]\n",
      " [  833  4177    57   201    43]\n",
      " [  181    64  2620   186    36]\n",
      " [ 5726   630   332 50317   321]\n",
      " [  115    81    33   209  3905]]\n"
     ]
    }
   ],
   "source": [
    "# Checking the results of a linear svc model.\n",
    "svc = LinearSVC(max_iter = 1000).fit(XTrainVec, yTrainOver)\n",
    "\n",
    "yPred = svc.predict(XTestVec)\n",
    "\n",
    "print('Accuracy Score: ', accuracy_score(yTest, yPred))\n",
    "\n",
    "print('Confusion Matrix: ', confusion_matrix(yTest, yPred))"
   ]
  },
  {
   "attachments": {},
   "cell_type": "markdown",
   "id": "b825f847",
   "metadata": {},
   "source": [
    "**Trying to add class weights instead of oversamplng and switching to tfidf**"
   ]
  },
  {
   "cell_type": "code",
   "execution_count": 21,
   "id": "e8b228b4",
   "metadata": {},
   "outputs": [],
   "source": [
    "# Adding a length of complaint to see if that helps improve the model.\n",
    "complaints['length'] = complaints['Consumer complaint narrative'].str.len()"
   ]
  },
  {
   "cell_type": "code",
   "execution_count": 22,
   "id": "1025ae3f",
   "metadata": {},
   "outputs": [],
   "source": [
    "# Creating the Train/Test spilt stratifying by Issue.\n",
    "X = complaints[['Consumer complaint narrative', 'length']]\n",
    "y = complaints['Issue']\n",
    "\n",
    "xTrain, xTest, yTrain, yTest = train_test_split(X, y, random_state = 777, stratify = y)"
   ]
  },
  {
   "cell_type": "code",
   "execution_count": 44,
   "id": "1a0b4f37",
   "metadata": {},
   "outputs": [],
   "source": [
    "from sklearn.feature_extraction.text import TfidfVectorizer"
   ]
  },
  {
   "cell_type": "code",
   "execution_count": 50,
   "id": "86014ffd",
   "metadata": {},
   "outputs": [],
   "source": [
    "# Fitting the tfidf vectorizer to training data then transforming both the training and test data.\n",
    "vect = TfidfVectorizer(stop_words = 'english', ngram_range = (1,2))\n",
    "\n",
    "xTrainVec = vect.fit_transform(xTrain['Consumer complaint narrative'])\n",
    "xTestVec = vect.transform(xTest['Consumer complaint narrative'])"
   ]
  },
  {
   "cell_type": "code",
   "execution_count": 46,
   "id": "3d27a546",
   "metadata": {},
   "outputs": [],
   "source": [
    "from scipy.sparse import hstack"
   ]
  },
  {
   "cell_type": "code",
   "execution_count": 47,
   "id": "cd30de6f",
   "metadata": {},
   "outputs": [],
   "source": [
    "# xTrainVec = hstack((xTrainVec, sparse.csr_matrix(np.array(xTrain['length'])).reshape(-1, 1)))\n",
    "# xTestVec = hstack((xTestVec, sparse.csr_matrix(np.array(xTest['length'])).reshape(-1, 1)))"
   ]
  },
  {
   "attachments": {},
   "cell_type": "markdown",
   "id": "4f64f1cd",
   "metadata": {},
   "source": [
    "**Logistic regression**"
   ]
  },
  {
   "cell_type": "code",
   "execution_count": 51,
   "id": "02997dcb",
   "metadata": {},
   "outputs": [
    {
     "name": "stdout",
     "output_type": "stream",
     "text": [
      "Accuracy Score:  0.8732203082912696\n",
      "Confusion Matrix:  [[14778  1116   261  1961   175]\n",
      " [  594  4540    46    96    35]\n",
      " [   93    25  2863    94    12]\n",
      " [ 5278   306   329 50763   650]\n",
      " [   30    45    18    38  4212]]\n"
     ]
    }
   ],
   "source": [
    "# Checking the results of a logistic regression model.\n",
    "logreg = LogisticRegression(max_iter = 1000, class_weight = 'balanced').fit(xTrainVec, yTrain)\n",
    "\n",
    "yPred = logreg.predict(xTestVec)\n",
    "\n",
    "print('Accuracy Score: ', accuracy_score(yTest, yPred))\n",
    "\n",
    "print('Confusion Matrix: ', confusion_matrix(yTest, yPred))"
   ]
  },
  {
   "attachments": {},
   "cell_type": "markdown",
   "id": "1b773b67",
   "metadata": {},
   "source": [
    "**Linear SVC**"
   ]
  },
  {
   "cell_type": "code",
   "execution_count": 52,
   "id": "fefbfc17",
   "metadata": {},
   "outputs": [
    {
     "name": "stdout",
     "output_type": "stream",
     "text": [
      "Accuracy Score:  0.9033590619977817\n",
      "Confusion Matrix:  [[14548   732   145  2751   115]\n",
      " [  832  4256    24   174    25]\n",
      " [  110    19  2791   155    12]\n",
      " [ 2862    93    79 54066   226]\n",
      " [   41    36    13    95  4158]]\n"
     ]
    }
   ],
   "source": [
    "# Checking the results of a linear svc model.\n",
    "svc = LinearSVC(max_iter = 1000, class_weight = 'balanced').fit(xTrainVec, yTrain)\n",
    "\n",
    "yPred = svc.predict(xTestVec)\n",
    "\n",
    "print('Accuracy Score: ', accuracy_score(yTest, yPred))\n",
    "\n",
    "print('Confusion Matrix: ', confusion_matrix(yTest, yPred))"
   ]
  }
 ],
 "metadata": {
  "kernelspec": {
   "display_name": "Python 3 (ipykernel)",
   "language": "python",
   "name": "python3"
  },
  "language_info": {
   "codemirror_mode": {
    "name": "ipython",
    "version": 3
   },
   "file_extension": ".py",
   "mimetype": "text/x-python",
   "name": "python",
   "nbconvert_exporter": "python",
   "pygments_lexer": "ipython3",
   "version": "3.9.16"
  }
 },
 "nbformat": 4,
 "nbformat_minor": 5
}
