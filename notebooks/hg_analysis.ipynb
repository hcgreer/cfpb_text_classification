{
 "cells": [
  {
   "cell_type": "code",
   "execution_count": 28,
   "id": "296af473",
   "metadata": {},
   "outputs": [],
   "source": [
    "import pandas as pd\n",
    "from sklearn.model_selection import train_test_split\n",
    "from sklearn.metrics import accuracy_score, confusion_matrix\n",
    "import re\n",
    "import numpy as np\n",
    "import matplotlib.pyplot as plt\n",
    "from sklearn.feature_extraction.text import CountVectorizer, TfidfVectorizer\n",
    "import seaborn as sns\n",
    "from sklearn.linear_model import LogisticRegression\n",
    "from sklearn.metrics.pairwise import cosine_similarity\n",
    "from nltk.corpus import stopwords"
   ]
  },
  {
   "cell_type": "code",
   "execution_count": 29,
   "id": "399c9cef",
   "metadata": {},
   "outputs": [],
   "source": [
    "complaints = pd.read_csv('../data/complaints.csv')"
   ]
  },
  {
   "cell_type": "code",
   "execution_count": 30,
   "id": "71385e20",
   "metadata": {},
   "outputs": [],
   "source": [
    "# Replacing the X's with an empty space.\n",
    "for i in range(0, len(complaints)):\n",
    "    complaints.loc[i, 'Consumer complaint narrative'] = (\n",
    "        re.sub('X{2,}', '', complaints.loc[i, 'Consumer complaint narrative'])\n",
    "    )"
   ]
  },
  {
   "cell_type": "code",
   "execution_count": 31,
   "id": "5ba5266b",
   "metadata": {},
   "outputs": [],
   "source": [
    "# Creating the Train/Test spilt stratifying by Issue.\n",
    "X = complaints[['Consumer complaint narrative']]\n",
    "y = complaints['Issue']\n",
    "\n",
    "xTrain, xTest, yTrain, yTest = train_test_split(X, y, random_state = 777, stratify = y)"
   ]
  },
  {
   "cell_type": "markdown",
   "id": "24546ac4",
   "metadata": {},
   "source": [
    "**Looking at a Count Vectorizer**"
   ]
  },
  {
   "cell_type": "code",
   "execution_count": 32,
   "id": "b3087655",
   "metadata": {},
   "outputs": [],
   "source": [
    "# Fitting the count vectorizer to training data then transforming both the training and test data.\n",
    "vect = CountVectorizer()\n",
    "\n",
    "XTrainVec = vect.fit_transform(xTrain['Consumer complaint narrative'])\n",
    "XTestVec = vect.transform(xTest['Consumer complaint narrative'])"
   ]
  },
  {
   "cell_type": "code",
   "execution_count": 33,
   "id": "3257187e",
   "metadata": {},
   "outputs": [
    {
     "name": "stderr",
     "output_type": "stream",
     "text": [
      "C:\\Users\\hcgre\\anaconda3\\lib\\site-packages\\sklearn\\linear_model\\_logistic.py:458: ConvergenceWarning: lbfgs failed to converge (status=1):\n",
      "STOP: TOTAL NO. of ITERATIONS REACHED LIMIT.\n",
      "\n",
      "Increase the number of iterations (max_iter) or scale the data as shown in:\n",
      "    https://scikit-learn.org/stable/modules/preprocessing.html\n",
      "Please also refer to the documentation for alternative solver options:\n",
      "    https://scikit-learn.org/stable/modules/linear_model.html#logistic-regression\n",
      "  n_iter_i = _check_optimize_result(\n"
     ]
    },
    {
     "name": "stdout",
     "output_type": "stream",
     "text": [
      "Accuracy Score:  0.8713868580094615\n",
      "Confusion Matrix:  [[12223   788   118  5071    91]\n",
      " [  933  3987    24   336    31]\n",
      " [  158    29  2630   251    19]\n",
      " [ 2683   105   102 54258   178]\n",
      " [   92    54    22   279  3896]]\n"
     ]
    }
   ],
   "source": [
    "# Checking the results of a logistic regression model.\n",
    "logreg = LogisticRegression(max_iter = 1000).fit(XTrainVec, yTrain)\n",
    "\n",
    "yPred = logreg.predict(XTestVec)\n",
    "\n",
    "print('Accuracy Score: ', accuracy_score(yTest, yPred))\n",
    "\n",
    "print('Confusion Matrix: ', confusion_matrix(yTest, yPred))"
   ]
  },
  {
   "cell_type": "code",
   "execution_count": 38,
   "id": "4e09890b",
   "metadata": {},
   "outputs": [
    {
     "data": {
      "text/html": [
       "<div>\n",
       "<style scoped>\n",
       "    .dataframe tbody tr th:only-of-type {\n",
       "        vertical-align: middle;\n",
       "    }\n",
       "\n",
       "    .dataframe tbody tr th {\n",
       "        vertical-align: top;\n",
       "    }\n",
       "\n",
       "    .dataframe thead th {\n",
       "        text-align: right;\n",
       "    }\n",
       "</style>\n",
       "<table border=\"1\" class=\"dataframe\">\n",
       "  <thead>\n",
       "    <tr style=\"text-align: right;\">\n",
       "      <th></th>\n",
       "      <th>words</th>\n",
       "      <th>frequency</th>\n",
       "    </tr>\n",
       "  </thead>\n",
       "  <tbody>\n",
       "    <tr>\n",
       "      <th>61571</th>\n",
       "      <td>the</td>\n",
       "      <td>1829587</td>\n",
       "    </tr>\n",
       "    <tr>\n",
       "      <th>62727</th>\n",
       "      <td>to</td>\n",
       "      <td>1488528</td>\n",
       "    </tr>\n",
       "    <tr>\n",
       "      <th>7488</th>\n",
       "      <td>and</td>\n",
       "      <td>1228351</td>\n",
       "    </tr>\n",
       "    <tr>\n",
       "      <th>41851</th>\n",
       "      <td>my</td>\n",
       "      <td>961732</td>\n",
       "    </tr>\n",
       "    <tr>\n",
       "      <th>44061</th>\n",
       "      <td>of</td>\n",
       "      <td>888830</td>\n",
       "    </tr>\n",
       "  </tbody>\n",
       "</table>\n",
       "</div>"
      ],
      "text/plain": [
       "      words  frequency\n",
       "61571   the    1829587\n",
       "62727    to    1488528\n",
       "7488    and    1228351\n",
       "41851    my     961732\n",
       "44061    of     888830"
      ]
     },
     "execution_count": 38,
     "metadata": {},
     "output_type": "execute_result"
    }
   ],
   "source": [
    "# Data frame of word counts in the training set\n",
    "word_counts = pd.DataFrame({\n",
    "    'words': vect.get_feature_names_out(),\n",
    "    'frequency': np.array(XTrainVec.sum(axis = 0)).flatten()\n",
    "})\n",
    "\n",
    "word_counts.sort_values('frequency', ascending = False).head()"
   ]
  },
  {
   "cell_type": "code",
   "execution_count": null,
   "id": "095ef734",
   "metadata": {},
   "outputs": [],
   "source": []
  }
 ],
 "metadata": {
  "kernelspec": {
   "display_name": "Python 3 (ipykernel)",
   "language": "python",
   "name": "python3"
  },
  "language_info": {
   "codemirror_mode": {
    "name": "ipython",
    "version": 3
   },
   "file_extension": ".py",
   "mimetype": "text/x-python",
   "name": "python",
   "nbconvert_exporter": "python",
   "pygments_lexer": "ipython3",
   "version": "3.9.16"
  }
 },
 "nbformat": 4,
 "nbformat_minor": 5
}
