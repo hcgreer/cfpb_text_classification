{
 "cells": [
  {
   "cell_type": "code",
   "execution_count": 15,
   "id": "296af473",
   "metadata": {},
   "outputs": [],
   "source": [
    "import pandas as pd\n",
    "from sklearn.model_selection import train_test_split\n",
    "from sklearn.metrics import accuracy_score, confusion_matrix\n",
    "import re\n",
    "import numpy as np\n",
    "import matplotlib.pyplot as plt\n",
    "from sklearn.feature_extraction.text import CountVectorizer, TfidfVectorizer\n",
    "import seaborn as sns\n",
    "from sklearn.linear_model import LogisticRegression\n",
    "from sklearn.metrics.pairwise import cosine_similarity\n",
    "from nltk.corpus import stopwords\n",
    "from collections import Counter\n",
    "from scipy import sparse\n",
    "from scipy.sparse.linalg import svds\n",
    "import gensim\n",
    "from imblearn.over_sampling import RandomOverSampler"
   ]
  },
  {
   "cell_type": "code",
   "execution_count": 2,
   "id": "399c9cef",
   "metadata": {},
   "outputs": [],
   "source": [
    "complaints = pd.read_csv('../data/complaints.csv')"
   ]
  },
  {
   "cell_type": "code",
   "execution_count": 3,
   "id": "71385e20",
   "metadata": {},
   "outputs": [],
   "source": [
    "# Replacing the X's with an empty space.\n",
    "for i in range(0, len(complaints)):\n",
    "    complaints.loc[i, 'Consumer complaint narrative'] = (\n",
    "        re.sub('X{2,}', '', complaints.loc[i, 'Consumer complaint narrative'])\n",
    "    )"
   ]
  },
  {
   "cell_type": "code",
   "execution_count": 4,
   "id": "5ba5266b",
   "metadata": {},
   "outputs": [],
   "source": [
    "# Creating the Train/Test spilt stratifying by Issue.\n",
    "X = complaints[['Consumer complaint narrative']]\n",
    "y = complaints['Issue']\n",
    "\n",
    "xTrain, xTest, yTrain, yTest = train_test_split(X, y, random_state = 777, stratify = y)"
   ]
  },
  {
   "attachments": {},
   "cell_type": "markdown",
   "id": "24546ac4",
   "metadata": {},
   "source": [
    "**Looking at a Count Vectorizer**"
   ]
  },
  {
   "cell_type": "code",
   "execution_count": 5,
   "id": "b3087655",
   "metadata": {},
   "outputs": [],
   "source": [
    "# Fitting the count vectorizer to training data then transforming both the training and test data.\n",
    "vect = CountVectorizer()\n",
    "\n",
    "XTrainVec = vect.fit_transform(xTrain['Consumer complaint narrative'])\n",
    "XTestVec = vect.transform(xTest['Consumer complaint narrative'])"
   ]
  },
  {
   "cell_type": "code",
   "execution_count": 6,
   "id": "3257187e",
   "metadata": {},
   "outputs": [
    {
     "name": "stderr",
     "output_type": "stream",
     "text": [
      "c:\\Users\\hcgre\\anaconda3\\lib\\site-packages\\sklearn\\linear_model\\_logistic.py:458: ConvergenceWarning: lbfgs failed to converge (status=1):\n",
      "STOP: TOTAL NO. of ITERATIONS REACHED LIMIT.\n",
      "\n",
      "Increase the number of iterations (max_iter) or scale the data as shown in:\n",
      "    https://scikit-learn.org/stable/modules/preprocessing.html\n",
      "Please also refer to the documentation for alternative solver options:\n",
      "    https://scikit-learn.org/stable/modules/linear_model.html#logistic-regression\n",
      "  n_iter_i = _check_optimize_result(\n"
     ]
    },
    {
     "name": "stdout",
     "output_type": "stream",
     "text": [
      "Accuracy Score:  0.8713868580094615\n",
      "Confusion Matrix:  [[12223   788   118  5071    91]\n",
      " [  933  3987    24   336    31]\n",
      " [  158    29  2630   251    19]\n",
      " [ 2683   105   102 54258   178]\n",
      " [   92    54    22   279  3896]]\n"
     ]
    }
   ],
   "source": [
    "# Checking the results of a logistic regression model.\n",
    "logreg = LogisticRegression(max_iter = 1000).fit(XTrainVec, yTrain)\n",
    "\n",
    "yPred = logreg.predict(XTestVec)\n",
    "\n",
    "print('Accuracy Score: ', accuracy_score(yTest, yPred))\n",
    "\n",
    "print('Confusion Matrix: ', confusion_matrix(yTest, yPred))"
   ]
  },
  {
   "attachments": {},
   "cell_type": "markdown",
   "id": "88379d94",
   "metadata": {},
   "source": [
    "**Looking into dealing with class imbalance**"
   ]
  },
  {
   "cell_type": "code",
   "execution_count": 19,
   "id": "8f802028",
   "metadata": {},
   "outputs": [],
   "source": [
    "oversample = RandomOverSampler()\n",
    "\n",
    "xTrainOver, yTrainOver = oversample.fit_resample(\n",
    "    xTrain, \n",
    "    yTrain\n",
    ")"
   ]
  },
  {
   "attachments": {},
   "cell_type": "markdown",
   "id": "22804aa2",
   "metadata": {},
   "source": [
    "**Count Vectorizer into a Logistic Regression**"
   ]
  },
  {
   "cell_type": "code",
   "execution_count": 20,
   "id": "3e870a36",
   "metadata": {},
   "outputs": [],
   "source": [
    "# Fitting the count vectorizer to training data then transforming both the training and test data.\n",
    "vect = CountVectorizer()\n",
    "\n",
    "XTrainVec = vect.fit_transform(xTrain['Consumer complaint narrative'])\n",
    "XTestVec = vect.transform(xTest['Consumer complaint narrative'])"
   ]
  },
  {
   "cell_type": "code",
   "execution_count": 21,
   "id": "95139144",
   "metadata": {},
   "outputs": [
    {
     "name": "stderr",
     "output_type": "stream",
     "text": [
      "c:\\Users\\hcgre\\anaconda3\\lib\\site-packages\\sklearn\\linear_model\\_logistic.py:458: ConvergenceWarning: lbfgs failed to converge (status=1):\n",
      "STOP: TOTAL NO. of ITERATIONS REACHED LIMIT.\n",
      "\n",
      "Increase the number of iterations (max_iter) or scale the data as shown in:\n",
      "    https://scikit-learn.org/stable/modules/preprocessing.html\n",
      "Please also refer to the documentation for alternative solver options:\n",
      "    https://scikit-learn.org/stable/modules/linear_model.html#logistic-regression\n",
      "  n_iter_i = _check_optimize_result(\n"
     ]
    },
    {
     "name": "stdout",
     "output_type": "stream",
     "text": [
      "Accuracy Score:  0.8713868580094615\n",
      "Confusion Matrix:  [[12223   788   118  5071    91]\n",
      " [  933  3987    24   336    31]\n",
      " [  158    29  2630   251    19]\n",
      " [ 2683   105   102 54258   178]\n",
      " [   92    54    22   279  3896]]\n"
     ]
    }
   ],
   "source": [
    "# Checking the results of a logistic regression model.\n",
    "logreg = LogisticRegression(max_iter = 1000).fit(XTrainVec, yTrain)\n",
    "\n",
    "yPred = logreg.predict(XTestVec)\n",
    "\n",
    "print('Accuracy Score: ', accuracy_score(yTest, yPred))\n",
    "\n",
    "print('Confusion Matrix: ', confusion_matrix(yTest, yPred))"
   ]
  },
  {
   "attachments": {},
   "cell_type": "markdown",
   "id": "4aee65f2",
   "metadata": {},
   "source": [
    "**Linear SVC**"
   ]
  },
  {
   "cell_type": "code",
   "execution_count": 22,
   "id": "29b6d20b",
   "metadata": {},
   "outputs": [],
   "source": [
    "from sklearn.svm import LinearSVC"
   ]
  },
  {
   "cell_type": "code",
   "execution_count": 23,
   "id": "388a7abd",
   "metadata": {},
   "outputs": [
    {
     "name": "stderr",
     "output_type": "stream",
     "text": [
      "c:\\Users\\hcgre\\anaconda3\\lib\\site-packages\\sklearn\\svm\\_base.py:1244: ConvergenceWarning: Liblinear failed to converge, increase the number of iterations.\n",
      "  warnings.warn(\n"
     ]
    },
    {
     "name": "stdout",
     "output_type": "stream",
     "text": [
      "Accuracy Score:  0.8676294166911881\n",
      "Confusion Matrix:  [[11628   818   131  5592   122]\n",
      " [  845  3928    38   465    35]\n",
      " [  125    41  2613   282    26]\n",
      " [ 2300   137    91 54613   185]\n",
      " [   81    51    24   307  3880]]\n"
     ]
    }
   ],
   "source": [
    "# Checking the results of a linear svc model.\n",
    "svc = LinearSVC(max_iter = 1000).fit(XTrainVec, yTrain)\n",
    "\n",
    "yPred = svc.predict(XTestVec)\n",
    "\n",
    "print('Accuracy Score: ', accuracy_score(yTest, yPred))\n",
    "\n",
    "print('Confusion Matrix: ', confusion_matrix(yTest, yPred))"
   ]
  }
 ],
 "metadata": {
  "kernelspec": {
   "display_name": "Python 3 (ipykernel)",
   "language": "python",
   "name": "python3"
  },
  "language_info": {
   "codemirror_mode": {
    "name": "ipython",
    "version": 3
   },
   "file_extension": ".py",
   "mimetype": "text/x-python",
   "name": "python",
   "nbconvert_exporter": "python",
   "pygments_lexer": "ipython3",
   "version": "3.9.16"
  }
 },
 "nbformat": 4,
 "nbformat_minor": 5
}
